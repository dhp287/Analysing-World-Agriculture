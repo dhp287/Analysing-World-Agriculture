{
 "cells": [
  {
   "cell_type": "code",
   "execution_count": 89,
   "metadata": {
    "collapsed": true
   },
   "outputs": [],
   "source": [
    "from pyspark.sql import SQLContext\n",
    "from pyspark.sql import SparkSession\n",
    "import plotly as py\n",
    "import plotly.graph_objs as go\n",
    "import ipywidgets as widgets\n",
    "from pyspark.sql.types import IntegerType\n",
    "from pyspark.sql.window import Window\n",
    "from pyspark.sql.functions import avg, max, min, col, round, sum, row_number"
   ]
  },
  {
   "cell_type": "code",
   "execution_count": 90,
   "metadata": {
    "collapsed": true
   },
   "outputs": [],
   "source": [
    "spark = SparkSession\\\n",
    "    .builder\\\n",
    "    .appName(\"Python Spark SQL basic example\")\\\n",
    "    .config(\"spark.some.config.option\", \"some-value\")\\\n",
    "    .getOrCreate()"
   ]
  },
  {
   "cell_type": "code",
   "execution_count": 4,
   "metadata": {},
   "outputs": [],
   "source": [
    "df_crop_temp = spark.read.csv(\"Production_Crops_E_All_Data_(Normalized).csv\")\n",
    "df_nutrient_temp = spark.read.csv(\"Inputs_FertilizersNutrient_E_All_Data_(Normalized).csv\")\n",
    "print(df_crop_temp.head())\n",
    "print(df_nutrient_temp.head())"
   ]
  },
  {
   "cell_type": "code",
   "execution_count": 60,
   "metadata": {
    "collapsed": true
   },
   "outputs": [],
   "source": [
    "df_crop_temp = df_crop_temp.drop('_c10', '_c6', '_c4', '_c5')\n",
    "df_nutrient_temp = df_nutrient_temp.drop('_c10', '_c6', '_c4', '_c1')\n",
    "df_crop_temp = df_crop_temp.withColumn(\"_c9\", df_crop_temp[\"_c9\"].cast(IntegerType()))\n",
    "df_crop_temp = df_crop_temp.withColumn(\"_c7\", df_crop_temp[\"_c7\"].cast(IntegerType()))\n",
    "df_nutrient_temp = df_nutrient_temp.withColumn(\"_c9\", df_nutrient_temp[\"_c9\"].cast(IntegerType()))\n",
    "df_nutrient_temp = df_nutrient_temp.withColumn(\"_c7\", df_nutrient_temp[\"_c7\"].cast(IntegerType()))\n",
    "df_crop_temp = df_crop_temp.filter(df_crop_temp._c9 > 0)"
   ]
  },
  {
   "cell_type": "code",
   "execution_count": 61,
   "metadata": {
    "collapsed": true
   },
   "outputs": [],
   "source": [
    "df_plot = df_crop_temp.filter(df_crop_temp._c8 == 'hg/ha')"
   ]
  },
  {
   "cell_type": "code",
   "execution_count": 62,
   "metadata": {},
   "outputs": [
    {
     "name": "stdout",
     "output_type": "stream",
     "text": [
      "root\n",
      " |-- country_id: string (nullable = true)\n",
      " |-- country: string (nullable = true)\n",
      " |-- crop_id: string (nullable = true)\n",
      " |-- crop: string (nullable = true)\n",
      " |-- year: integer (nullable = true)\n",
      " |-- unit: string (nullable = true)\n",
      " |-- yield: integer (nullable = true)\n",
      "\n"
     ]
    }
   ],
   "source": [
    "df_crop = df_crop_temp.selectExpr(\"_c0 as country_id\", \"_c1 as country\", \"_c2 as crop_id\", \"_c3 as crop\", \"_c7 as year\", \"_c8 as unit\", \"_c9 as yield\")\n",
    "df_nutrient = df_nutrient_temp.selectExpr(\"_c0 as n_country_id\",\"_c2 as nutrient_id\",\"_c3 as nutrient\",\"_c5 as element\",\"_c7 as n_year\",\"_c8 as n_unit\", \"_c9 as quantity\")\n",
    "df_nutrient = df_nutrient.filter(df_nutrient.element == 'Agricultural Use')\n",
    "df_crop.printSchema()"
   ]
  },
  {
   "cell_type": "code",
   "execution_count": 63,
   "metadata": {},
   "outputs": [
    {
     "data": {
      "text/plain": [
       "4181"
      ]
     },
     "execution_count": 63,
     "metadata": {},
     "output_type": "execute_result"
    }
   ],
   "source": [
    "df_land = df_crop.filter(df_crop.unit == 'ha')\n",
    "df_land = df_land.filter(df_land.year > 1999)\n",
    "df_land = df_land.select(\"country_id\", \"country\", \"year\", \"yield\")\n",
    "w6 = Window.partitionBy(df_land.country, df_land.year).orderBy(df_land.country,  df_land.year)\n",
    "df_land = df_land.select(\"country_id\", \"country\", \"year\", sum('yield').over(w6).alias('yield')).distinct()\n",
    "#w6 = Window.partitionBy(df_land.country, df_land.crop).orderBy(df_land.country,  df_land.crop)\n",
    "#df_land = df_land.select(\"country_id\", \"country\", \"crop\", avg('yield').over(w6).alias('yield')).distinct()\n",
    "#df_land = df_land.select(\"country_id\", \"country\", \"crop\", round('yield').alias('yield'))\n",
    "#w7 = Window.partitionBy(df_land.country).orderBy(df_land.country)\n",
    "#df_land = df_land.select(\"country_id\", \"country\", sum('yield').over(w7).alias('yield')).distinct()\n",
    "df_land.count()"
   ]
  },
  {
   "cell_type": "code",
   "execution_count": 64,
   "metadata": {},
   "outputs": [
    {
     "name": "stdout",
     "output_type": "stream",
     "text": [
      "+----------+----------+----+--------+\n",
      "|country_id|   country|year|   yield|\n",
      "+----------+----------+----+--------+\n",
      "|         9| Argentina|2010|52567628|\n",
      "|        52|Azerbaijan|2012| 3940675|\n",
      "|        13|   Bahrain|2014|    5785|\n",
      "+----------+----------+----+--------+\n",
      "only showing top 3 rows\n",
      "\n"
     ]
    }
   ],
   "source": [
    "df_land.show(3)"
   ]
  },
  {
   "cell_type": "code",
   "execution_count": 65,
   "metadata": {},
   "outputs": [
    {
     "name": "stdout",
     "output_type": "stream",
     "text": [
      "+------------+--------------------+------+-----------+--------------------+----------+\n",
      "|n_country_id|           n_country|n_year|nutrient_id|            nutrient|     kg/ha|\n",
      "+------------+--------------------+------+-----------+--------------------+----------+\n",
      "|           9|           Argentina|  2010|       3104|Nutrient potash K...|  0.631834|\n",
      "|           9|           Argentina|  2010|       3103|Nutrient phosphat...| 13.005476|\n",
      "|           9|           Argentina|  2010|       3102|Nutrient nitrogen...| 14.671482|\n",
      "|          52|          Azerbaijan|  2012|       3104|Nutrient potash K...|  0.655218|\n",
      "|          52|          Azerbaijan|  2012|       3103|Nutrient phosphat...|  1.538061|\n",
      "|          52|          Azerbaijan|  2012|       3102|Nutrient nitrogen...|  6.988904|\n",
      "|          13|             Bahrain|  2014|       3104|Nutrient potash K...|233.362143|\n",
      "|          13|             Bahrain|  2014|       3103|Nutrient phosphat...| 25.929127|\n",
      "|          13|             Bahrain|  2014|       3102|Nutrient nitrogen...|105.445117|\n",
      "|          44|            Colombia|  2014|       3104|Nutrient potash K...| 41.311986|\n",
      "|          44|            Colombia|  2014|       3103|Nutrient phosphat...| 27.208704|\n",
      "|          44|            Colombia|  2014|       3102|Nutrient nitrogen...| 76.433447|\n",
      "|          49|                Cuba|  2009|       3104|Nutrient potash K...|  5.517703|\n",
      "|          49|                Cuba|  2009|       3103|Nutrient phosphat...|  2.785058|\n",
      "|          49|                Cuba|  2009|       3102|Nutrient nitrogen...|  8.431035|\n",
      "|         102|Iran (Islamic Rep...|  2016|       3104|Nutrient potash K...|  2.323253|\n",
      "|         102|Iran (Islamic Rep...|  2016|       3103|Nutrient phosphat...|  2.588822|\n",
      "|         102|Iran (Islamic Rep...|  2016|       3102|Nutrient nitrogen...| 29.952593|\n",
      "|         108|          Kazakhstan|  2007|       3104|Nutrient potash K...|  0.018226|\n",
      "|         108|          Kazakhstan|  2007|       3103|Nutrient phosphat...|  0.415138|\n",
      "+------------+--------------------+------+-----------+--------------------+----------+\n",
      "only showing top 20 rows\n",
      "\n"
     ]
    }
   ],
   "source": [
    "df_land_nutrient = df_land.join(df_nutrient, [df_land.country_id == df_nutrient.n_country_id, df_land.year == df_nutrient.n_year]).drop('n_country_id','element','n_year','n_unit')\n",
    "df_land_nutrient = df_land_nutrient.withColumn(\"tonnes/ha\", col('quantity') / col('yield'))\n",
    "df_land_nutrient = df_land_nutrient.select(\"country_id\", \"country\", \"year\", \"nutrient_id\", \"nutrient\", (col(\"tonnes/ha\")*1000).alias(\"kg/ha\"))\n",
    "df_land_nutrient = df_land_nutrient.select(\"country_id\", \"country\", \"year\", \"nutrient_id\", \"nutrient\", round(\"kg/ha\", 6).alias(\"kg/ha\"))\n",
    "df_land_nutrient = df_land_nutrient.select(col(\"country_id\").alias(\"n_country_id\"), col(\"country\").alias(\"n_country\"), col(\"year\").alias(\"n_year\"), \"nutrient_id\", \"nutrient\", \"kg/ha\")\n",
    "df_land_nutrient.show()"
   ]
  },
  {
   "cell_type": "code",
   "execution_count": 66,
   "metadata": {},
   "outputs": [
    {
     "name": "stdout",
     "output_type": "stream",
     "text": [
      "+--------+--------------------+------+--------+--------------------+----------+\n",
      "|cid_3104|              c_3104|y_3104|nid_3104|              n_3104|    potash|\n",
      "+--------+--------------------+------+--------+--------------------+----------+\n",
      "|       9|           Argentina|  2010|    3104|Nutrient potash K...|  0.631834|\n",
      "|      52|          Azerbaijan|  2012|    3104|Nutrient potash K...|  0.655218|\n",
      "|      13|             Bahrain|  2014|    3104|Nutrient potash K...|233.362143|\n",
      "|      44|            Colombia|  2014|    3104|Nutrient potash K...| 41.311986|\n",
      "|      49|                Cuba|  2009|    3104|Nutrient potash K...|  5.517703|\n",
      "|     102|Iran (Islamic Rep...|  2016|    3104|Nutrient potash K...|  2.323253|\n",
      "|     108|          Kazakhstan|  2007|    3104|Nutrient potash K...|  0.018226|\n",
      "|     256|          Luxembourg|  2007|    3104|Nutrient potash K...| 16.774544|\n",
      "|    5102|       Middle Africa|  2003|    3104|Nutrient potash K...|  0.515913|\n",
      "|    5102|       Middle Africa|  2006|    3104|Nutrient potash K...|  0.504224|\n",
      "|    5817|Net Food Importin...|  2006|    3104|Nutrient potash K...|  1.606915|\n",
      "|     153|       New Caledonia|  2003|    3104|Nutrient potash K...| 30.323375|\n",
      "|     221|                Oman|  2012|    3104|Nutrient potash K...| 74.157681|\n",
      "|     223|              Turkey|  2010|    3104|Nutrient potash K...|  1.445825|\n",
      "|     235|          Uzbekistan|  2008|    3104|Nutrient potash K...|  4.094229|\n",
      "|     235|          Uzbekistan|  2011|    3104|Nutrient potash K...|  5.289684|\n",
      "|     237|            Viet Nam|  2004|    3104|Nutrient potash K...| 14.156617|\n",
      "|      20|            Botswana|  2014|    3104|Nutrient potash K...|  1.319011|\n",
      "|      33|              Canada|  2009|    3104|Nutrient potash K...|  3.806382|\n",
      "|      44|            Colombia|  2006|    3104|Nutrient potash K...| 32.503946|\n",
      "+--------+--------------------+------+--------+--------------------+----------+\n",
      "only showing top 20 rows\n",
      "\n"
     ]
    }
   ],
   "source": [
    "df_land_nutrient_3104 = df_land_nutrient.select(col('n_country_id').alias('cid_3104'),col('n_country').alias('c_3104'),col('n_year').alias('y_3104'),col('nutrient_id').alias('nid_3104'),col('nutrient').alias('n_3104'),col('kg/ha').alias('potash')).where(col('nutrient_id') == '3104')\n",
    "df_land_nutrient_3104.show()"
   ]
  },
  {
   "cell_type": "code",
   "execution_count": 67,
   "metadata": {},
   "outputs": [
    {
     "name": "stdout",
     "output_type": "stream",
     "text": [
      "+--------+--------------------+------+--------+--------------------+---------+\n",
      "|cid_3103|              c_3103|y_3103|nid_3103|              n_3103|phosphate|\n",
      "+--------+--------------------+------+--------+--------------------+---------+\n",
      "|       9|           Argentina|  2010|    3103|Nutrient phosphat...|13.005476|\n",
      "|      52|          Azerbaijan|  2012|    3103|Nutrient phosphat...| 1.538061|\n",
      "|      13|             Bahrain|  2014|    3103|Nutrient phosphat...|25.929127|\n",
      "|      44|            Colombia|  2014|    3103|Nutrient phosphat...|27.208704|\n",
      "|      49|                Cuba|  2009|    3103|Nutrient phosphat...| 2.785058|\n",
      "|     102|Iran (Islamic Rep...|  2016|    3103|Nutrient phosphat...| 2.588822|\n",
      "|     108|          Kazakhstan|  2007|    3103|Nutrient phosphat...| 0.415138|\n",
      "|     256|          Luxembourg|  2007|    3103|Nutrient phosphat...|15.353279|\n",
      "|    5102|       Middle Africa|  2003|    3103|Nutrient phosphat...| 0.329508|\n",
      "|    5102|       Middle Africa|  2006|    3103|Nutrient phosphat...| 0.279196|\n",
      "|    5817|Net Food Importin...|  2006|    3103|Nutrient phosphat...| 3.645042|\n",
      "|     153|       New Caledonia|  2003|    3103|Nutrient phosphat...|89.739286|\n",
      "|     221|                Oman|  2012|    3103|Nutrient phosphat...|18.419346|\n",
      "|     223|              Turkey|  2010|    3103|Nutrient phosphat...|12.459839|\n",
      "|     235|          Uzbekistan|  2008|    3103|Nutrient phosphat...|20.477304|\n",
      "|     235|          Uzbekistan|  2011|    3103|Nutrient phosphat...|25.484638|\n",
      "|     237|            Viet Nam|  2004|    3103|Nutrient phosphat...|19.136323|\n",
      "|      20|            Botswana|  2014|    3103|Nutrient phosphat...|  1.52079|\n",
      "|      33|              Canada|  2009|    3103|Nutrient phosphat...| 8.553869|\n",
      "|      44|            Colombia|  2006|    3103|Nutrient phosphat...|39.807415|\n",
      "+--------+--------------------+------+--------+--------------------+---------+\n",
      "only showing top 20 rows\n",
      "\n"
     ]
    }
   ],
   "source": [
    "df_land_nutrient_3103 = df_land_nutrient.select(col('n_country_id').alias('cid_3103'),col('n_country').alias('c_3103'),col('n_year').alias('y_3103'),col('nutrient_id').alias('nid_3103'),col('nutrient').alias('n_3103'),col('kg/ha').alias('phosphate')).where(col('nutrient_id') == '3103')\n",
    "df_land_nutrient_3103.show()"
   ]
  },
  {
   "cell_type": "code",
   "execution_count": 68,
   "metadata": {},
   "outputs": [
    {
     "name": "stdout",
     "output_type": "stream",
     "text": [
      "+--------+--------------------+------+--------+--------------------+----------+\n",
      "|cid_3102|              c_3102|y_3102|nid_3102|              n_3102|  nitrogen|\n",
      "+--------+--------------------+------+--------+--------------------+----------+\n",
      "|       9|           Argentina|  2010|    3102|Nutrient nitrogen...| 14.671482|\n",
      "|      52|          Azerbaijan|  2012|    3102|Nutrient nitrogen...|  6.988904|\n",
      "|      13|             Bahrain|  2014|    3102|Nutrient nitrogen...|105.445117|\n",
      "|      44|            Colombia|  2014|    3102|Nutrient nitrogen...| 76.433447|\n",
      "|      49|                Cuba|  2009|    3102|Nutrient nitrogen...|  8.431035|\n",
      "|     102|Iran (Islamic Rep...|  2016|    3102|Nutrient nitrogen...| 29.952593|\n",
      "|     108|          Kazakhstan|  2007|    3102|Nutrient nitrogen...|  0.759399|\n",
      "|     256|          Luxembourg|  2007|    3102|Nutrient nitrogen...|120.508758|\n",
      "|    5102|       Middle Africa|  2003|    3102|Nutrient nitrogen...|  0.539996|\n",
      "|    5102|       Middle Africa|  2006|    3102|Nutrient nitrogen...|  0.724337|\n",
      "|    5817|Net Food Importin...|  2006|    3102|Nutrient nitrogen...| 11.975225|\n",
      "|     153|       New Caledonia|  2003|    3102|Nutrient nitrogen...| 84.032673|\n",
      "|     221|                Oman|  2012|    3102|Nutrient nitrogen...|324.764055|\n",
      "|     223|              Turkey|  2010|    3102|Nutrient nitrogen...|  29.37106|\n",
      "|     235|          Uzbekistan|  2008|    3102|Nutrient nitrogen...| 80.054642|\n",
      "|     235|          Uzbekistan|  2011|    3102|Nutrient nitrogen...| 90.880262|\n",
      "|     237|            Viet Nam|  2004|    3102|Nutrient nitrogen...| 47.218105|\n",
      "|      20|            Botswana|  2014|    3102|Nutrient nitrogen...| 28.649896|\n",
      "|      33|              Canada|  2009|    3102|Nutrient nitrogen...| 29.150036|\n",
      "|      44|            Colombia|  2006|    3102|Nutrient nitrogen...| 72.301526|\n",
      "+--------+--------------------+------+--------+--------------------+----------+\n",
      "only showing top 20 rows\n",
      "\n"
     ]
    }
   ],
   "source": [
    "df_land_nutrient_3102 = df_land_nutrient.select(col('n_country_id').alias('cid_3102'),col('n_country').alias('c_3102'),col('n_year').alias('y_3102'),col('nutrient_id').alias('nid_3102'),col('nutrient').alias('n_3102'),col('kg/ha').alias('nitrogen')).where(col('nutrient_id') == '3102')\n",
    "df_land_nutrient_3102.show()"
   ]
  },
  {
   "cell_type": "code",
   "execution_count": 69,
   "metadata": {
    "collapsed": true
   },
   "outputs": [],
   "source": [
    "df_crop = df_crop.filter(df_crop.unit == 'hg/ha')\n",
    "df_crop = df_crop.filter(df_crop.year > 1999)\n",
    "df_nutrient = df_nutrient.filter(df_nutrient.n_year > 1999)"
   ]
  },
  {
   "cell_type": "code",
   "execution_count": 70,
   "metadata": {
    "collapsed": true
   },
   "outputs": [],
   "source": [
    "w1 =  Window.partitionBy(df_crop.country, df_crop.crop).orderBy(df_crop.country, df_crop.crop)\n",
    "#df_crop_avg = df_crop.select(\"country_id\", \"country\", \"crop_id\", \"crop\", \"unit\", avg(\"yield\").over(w1).alias('yield'))\n",
    "#df_crop_avg = df_crop_avg.select(\"country_id\", \"country\", \"crop_id\", \"crop\", \"unit\", round(\"yield\").alias('yield')).distinct()\n",
    "#df_crop_avg.count()\n",
    "df_crop_max = df_crop.withColumn('max_value', max(\"yield\").over(w1)).where(col(\"yield\") == col('max_value')).drop('max_value')\n",
    "#df_crop_max.show()"
   ]
  },
  {
   "cell_type": "code",
   "execution_count": 71,
   "metadata": {},
   "outputs": [
    {
     "name": "stdout",
     "output_type": "stream",
     "text": [
      "+----------+--------------------+-------+--------------------+----+-----+----------+\n",
      "|country_id|             country|crop_id|                crop|year| unit|     yield|\n",
      "+----------+--------------------+-------+--------------------+----+-----+----------+\n",
      "|        58|             Ecuador|    800|    Agave fibres nes|2004|hg/ha|     18021|\n",
      "|       105|              Israel|    221| Almonds, with shell|2013|hg/ha|    402844|\n",
      "|       102|Iran (Islamic Rep...|    711|Anise, badian, fe...|2013|hg/ha|    117844|\n",
      "|       211|         Switzerland|    515|              Apples|2011|hg/ha|    782183|\n",
      "|       198|            Slovenia|    526|            Apricots|2004|hg/ha|    243548|\n",
      "|       131|            Malaysia|    226|          Areca nuts|2013|hg/ha|     86000|\n",
      "|      5101|      Eastern Africa|    366|          Artichokes|2002|hg/ha|    585157|\n",
      "|       102|Iran (Islamic Rep...|    367|           Asparagus|2013|hg/ha|    238605|\n",
      "|      5303|       Southern Asia|    367|           Asparagus|2013|hg/ha|    238605|\n",
      "|       299|Occupied Palestin...|    572|            Avocados|2001|hg/ha|    464286|\n",
      "|       233|        Burkina Faso|    203|       Bambara beans|2010|hg/ha|     12946|\n",
      "|       212|Syrian Arab Republic|    486|             Bananas|2015|hg/ha|    781507|\n",
      "|       255|             Belgium|     44|              Barley|2010|hg/ha|     91457|\n",
      "|        49|                Cuba|    782|   Bastfibres, other|2016|hg/ha|     71245|\n",
      "|      5206|           Caribbean|    782|   Bastfibres, other|2016|hg/ha|     71245|\n",
      "|      5803|Small Island Deve...|    782|   Bastfibres, other|2016|hg/ha|     71245|\n",
      "|       273|          Montenegro|    176|          Beans, dry|2014|hg/ha|     84359|\n",
      "|       256|          Luxembourg|    414|        Beans, green|2006|hg/ha|    550000|\n",
      "|       223|              Turkey|    558|         Berries nes|2013|hg/ha|    352886|\n",
      "|      5403|     Southern Europe|    552|         Blueberries|2016|hg/ha|    844707|\n",
      "|      5000|               World|    216|Brazil nuts, with...|2000|hg/ha|    104107|\n",
      "|       174|            Portugal|    181|Broad beans, hors...|2011|hg/ha|    174266|\n",
      "|      5404|      Western Europe|     89|           Buckwheat|2015|hg/ha|     38164|\n",
      "|        68|              France|     89|           Buckwheat|2015|hg/ha|     38164|\n",
      "|        56|  Dominican Republic|    358|Cabbages and othe...|2003|hg/ha|   1184977|\n",
      "|         9|           Argentina|    101|         Canary seed|2014|hg/ha|     21857|\n",
      "|       121|             Lebanon|    461|              Carobs|2002|hg/ha|     98462|\n",
      "|        99|             Iceland|    426| Carrots and turnips|2012|hg/ha|   1705000|\n",
      "|       171|         Philippines|    217|Cashew nuts, with...|2016|hg/ha|     75521|\n",
      "|      5803|Small Island Deve...|    591|         Cashewapple|2000|hg/ha|     80000|\n",
      "|        91|              Guyana|    591|         Cashewapple|2000|hg/ha|     80000|\n",
      "|       100|               India|    125|             Cassava|2012|hg/ha|    385818|\n",
      "|      5100|              Africa|    378|      Cassava leaves|2011|hg/ha|    110390|\n",
      "|      5102|       Middle Africa|    378|      Cassava leaves|2011|hg/ha|    110390|\n",
      "|        46|               Congo|    378|      Cassava leaves|2011|hg/ha|    110390|\n",
      "|      5000|               World|    378|      Cassava leaves|2011|hg/ha|    110390|\n",
      "|       212|Syrian Arab Republic|    265|     Castor oil seed|2016|hg/ha|     24159|\n",
      "|      5305|        Western Asia|    265|     Castor oil seed|2016|hg/ha|     24159|\n",
      "|       118|              Kuwait|    393|Cauliflowers and ...|2006|hg/ha|    663233|\n",
      "|       179|               Qatar|    108|        Cereals, nes|2012|hg/ha|    119000|\n",
      "|       191|Saint Vincent and...|   1717|       Cereals,Total|2011|hg/ha|    276400|\n",
      "|       211|         Switzerland|    531|            Cherries|2000|hg/ha|    449646|\n",
      "|       198|            Slovenia|    530|      Cherries, sour|2014|hg/ha|    772857|\n",
      "|       183|             Romania|    220|            Chestnut|2012|hg/ha|    250000|\n",
      "|       183|             Romania|    220|            Chestnut|2013|hg/ha|    250000|\n",
      "|      5803|Small Island Deve...|    191|          Chick peas|2008|hg/ha|   7066707|\n",
      "|       255|             Belgium|    459|       Chicory roots|2011|hg/ha|    544807|\n",
      "|       143|             Morocco|    689|Chillies and pepp...|2012|hg/ha|    200000|\n",
      "|      5104|     Southern Africa|    401|Chillies and pepp...|2000|hg/ha|   4094366|\n",
      "|       129|          Madagascar|    693|  Cinnamon (canella)|2007|hg/ha|     20625|\n",
      "|       105|              Israel|   1804|  Citrus Fruit,Total|2005|hg/ha|    419732|\n",
      "|       351|               China|    698|              Cloves|2016|hg/ha|     13607|\n",
      "|        41|     China, mainland|    698|              Cloves|2016|hg/ha|     13607|\n",
      "|      5302|        Eastern Asia|    698|              Cloves|2016|hg/ha|     13607|\n",
      "|       225|United Arab Emirates|   1814| Coarse Grain, Total|2015|hg/ha|    316487|\n",
      "|       216|            Thailand|    661|        Cocoa, beans|2014|hg/ha|     34286|\n",
      "|        60|         El Salvador|    249|            Coconuts|2014|hg/ha|    269733|\n",
      "|        23|              Belize|    656|       Coffee, green|2000|hg/ha|     41250|\n",
      "|       103|                Iraq|    195|       Cow peas, dry|2015|hg/ha|    106628|\n",
      "|      5300|                Asia|    554|         Cranberries|2004|hg/ha|    516000|\n",
      "|      5305|        Western Asia|    554|         Cranberries|2004|hg/ha|    516000|\n",
      "|       150|         Netherlands|    397|Cucumbers and ghe...|2015|hg/ha|   7431193|\n",
      "|        40|               Chile|    550|            Currants|2005|hg/ha|    400000|\n",
      "|      5200|            Americas|    550|            Currants|2005|hg/ha|    400000|\n",
      "|      5207|       South America|    550|            Currants|2005|hg/ha|    400000|\n",
      "|       118|              Kuwait|    577|               Dates|2012|hg/ha|    461273|\n",
      "|       255|             Belgium|    399|Eggplants (auberg...|2013|hg/ha|   6200000|\n",
      "|      5207|       South America|    821|     Fibre crops nes|2006|hg/ha|    718334|\n",
      "|        50|              Cyprus|    569|                Figs|2013|hg/ha|    369896|\n",
      "|        68|              France|    773|  Flax fibre and tow|2008|hg/ha|     80003|\n",
      "|       158|               Niger|     94|               Fonio|2004|hg/ha|     28479|\n",
      "|       231|United States of ...|    512|   Fruit, citrus nes|2000|hg/ha|    560494|\n",
      "|      5203|    Northern America|    512|   Fruit, citrus nes|2000|hg/ha|    560494|\n",
      "|       118|              Kuwait|    619|    Fruit, fresh nes|2012|hg/ha|    483357|\n",
      "|      5300|                Asia|    542|     Fruit, pome nes|2010|hg/ha|     89216|\n",
      "|      5301|        Central Asia|    542|     Fruit, pome nes|2010|hg/ha|     89216|\n",
      "|      5802|Land Locked Devel...|    542|     Fruit, pome nes|2010|hg/ha|     89216|\n",
      "|      5815|Low Income Food D...|    542|     Fruit, pome nes|2010|hg/ha|     89216|\n",
      "|       235|          Uzbekistan|    542|     Fruit, pome nes|2010|hg/ha|     89216|\n",
      "|       156|         New Zealand|    541|    Fruit, stone nes|2000|hg/ha|    233333|\n",
      "|      5500|             Oceania|    541|    Fruit, stone nes|2000|hg/ha|    233333|\n",
      "|       156|         New Zealand|    541|    Fruit, stone nes|2001|hg/ha|    233333|\n",
      "|      5500|             Oceania|    541|    Fruit, stone nes|2001|hg/ha|    233333|\n",
      "|      5501|Australia & New Z...|    541|    Fruit, stone nes|2000|hg/ha|    233333|\n",
      "|      5501|Australia & New Z...|    541|    Fruit, stone nes|2001|hg/ha|    233333|\n",
      "|       109|             Jamaica|    603|Fruit, tropical f...|2000|hg/ha|    219163|\n",
      "|       235|          Uzbekistan|    406|              Garlic|2012|hg/ha|    452699|\n",
      "|       231|United States of ...|    720|              Ginger|2000|hg/ha|    561743|\n",
      "|      5203|    Northern America|    720|              Ginger|2000|hg/ha|    561743|\n",
      "|       211|         Switzerland|    549|        Gooseberries|2015|hg/ha|    182500|\n",
      "|       255|             Belgium|    103|        Grain, mixed|2015|hg/ha|     94018|\n",
      "|       105|              Israel|    507|Grapefruit (inc. ...|2005|hg/ha|    826144|\n",
      "|       214|China, Taiwan Pro...|    560|              Grapes|2011|hg/ha|    351277|\n",
      "|       105|              Israel|    242|Groundnuts, with ...|2013|hg/ha|    163744|\n",
      "|       183|             Romania|    225|Hazelnuts, with s...|2009|hg/ha|    110000|\n",
      "|       150|         Netherlands|    777|      Hemp tow waste|2006|hg/ha|    100000|\n",
      "|       150|         Netherlands|    777|      Hemp tow waste|2004|hg/ha|    100000|\n",
      "|       150|         Netherlands|    777|      Hemp tow waste|2007|hg/ha|    100000|\n",
      "|       150|         Netherlands|    777|      Hemp tow waste|2005|hg/ha|    100000|\n",
      "|      5404|      Western Europe|    336|            Hempseed|2008|hg/ha|     84300|\n",
      "|        68|              France|    336|            Hempseed|2008|hg/ha|     84300|\n",
      "|       117|   Republic of Korea|    677|                Hops|2016|hg/ha|     67562|\n",
      "|      5000|               World|    277|         Jojoba seed|2004|hg/ha|      9000|\n",
      "|      5204|     Central America|    277|         Jojoba seed|2003|hg/ha|      9000|\n",
      "|       138|              Mexico|    277|         Jojoba seed|2004|hg/ha|      9000|\n",
      "|      5000|               World|    277|         Jojoba seed|2003|hg/ha|      9000|\n",
      "|      5200|            Americas|    277|         Jojoba seed|2003|hg/ha|      9000|\n",
      "|      5200|            Americas|    277|         Jojoba seed|2004|hg/ha|      9000|\n",
      "|      5204|     Central America|    277|         Jojoba seed|2004|hg/ha|      9000|\n",
      "|       138|              Mexico|    277|         Jojoba seed|2003|hg/ha|      9000|\n",
      "|       235|          Uzbekistan|    780|                Jute|2013|hg/ha|    110526|\n",
      "|      5301|        Central Asia|    780|                Jute|2013|hg/ha|    110526|\n",
      "|       216|            Thailand|    310|         Kapok fruit|2002|hg/ha|     36607|\n",
      "|       217|                Togo|    263|Karite nuts (shea...|2016|hg/ha|     40527|\n",
      "|       156|         New Zealand|    592|          Kiwi fruit|2016|hg/ha|    345187|\n",
      "|       159|             Nigeria|    224|           Kola nuts|2004|hg/ha|      9362|\n",
      "|       210|              Sweden|    407|Leeks, other alli...|2009|hg/ha|    610000|\n",
      "|        41|     China, mainland|    497|    Lemons and limes|2007|hg/ha|    588710|\n",
      "|        97|             Hungary|    201|             Lentils|2009|hg/ha|     48000|\n",
      "|        27|            Bulgaria|    372| Lettuce and chicory|2016|hg/ha|    970000|\n",
      "|       126|           Lithuania|    333|             Linseed|2002|hg/ha|    135000|\n",
      "|       211|         Switzerland|    210|              Lupins|2001|hg/ha|     58824|\n",
      "|       112|              Jordan|     56|               Maize|2016|hg/ha|    404127|\n",
      "|        98|             Croatia|    446|        Maize, green|2016|hg/ha|    414200|\n",
      "|       225|United Arab Emirates|    571|Mangoes, mangoste...|2008|hg/ha|    452784|\n",
      "|        58|             Ecuador|    809|Manila fibre (abaca)|2002|hg/ha|     14857|\n",
      "|      5207|       South America|    809|Manila fibre (abaca)|2002|hg/ha|     14857|\n",
      "|        21|              Brazil|    671|                Mat�|2014|hg/ha|     85065|\n",
      "|        50|              Cyprus|    568|Melons, other (in...|2010|hg/ha|   1076923|\n",
      "|       214|China, Taiwan Pro...|    299|           Melonseed|2016|hg/ha|     33795|\n",
      "|       235|          Uzbekistan|     79|              Millet|2013|hg/ha|     80000|\n",
      "|      5401|      Eastern Europe|    449|Mushrooms and tru...|2007|hg/ha|1271046819|\n",
      "|       138|              Mexico|    292|        Mustard seed|2005|hg/ha|     68333|\n",
      "|      5204|     Central America|    292|        Mustard seed|2005|hg/ha|     68333|\n",
      "|       131|            Malaysia|    702|Nutmeg, mace and ...|2012|hg/ha|     38421|\n",
      "|         3|             Albania|    234|           Nuts, nes|2000|hg/ha|    442291|\n",
      "|       104|             Ireland|     75|                Oats|2015|hg/ha|     84487|\n",
      "|       157|           Nicaragua|    254|      Oil palm fruit|2001|hg/ha|    265000|\n",
      "|       157|           Nicaragua|    254|      Oil palm fruit|2002|hg/ha|    265000|\n",
      "|       157|           Nicaragua|    254|      Oil palm fruit|2000|hg/ha|    265000|\n",
      "|      5103|     Northern Africa|    339|        Oilseeds nes|2001|hg/ha|   3063232|\n",
      "|       195|             Senegal|    430|                Okra|2011|hg/ha|    343629|\n",
      "|       231|United States of ...|    260|              Olives|2010|hg/ha|    128272|\n",
      "|      5203|    Northern America|    260|              Olives|2010|hg/ha|    128272|\n",
      "|       117|   Republic of Korea|    403|         Onions, dry|2009|hg/ha|    741218|\n",
      "|        84|              Greece|    402|Onions, shallots,...|2015|hg/ha|   2574593|\n",
      "|         3|             Albania|    490|             Oranges|2013|hg/ha|    485697|\n",
      "|        56|  Dominican Republic|    600|             Papayas|2001|hg/ha|   2942959|\n",
      "|       105|              Israel|    534|Peaches and necta...|2008|hg/ha|    446769|\n",
      "|       273|          Montenegro|    521|               Pears|2009|hg/ha|   1654706|\n",
      "|       255|             Belgium|    187|           Peas, dry|2015|hg/ha|     71636|\n",
      "|      5105|      Western Africa|    417|         Peas, green|2014|hg/ha|  12589091|\n",
      "|       208|          Tajikistan|    687| Pepper (piper spp.)|2015|hg/ha|    224000|\n",
      "|      5200|            Americas|    748|          Peppermint|2016|hg/ha|   2544354|\n",
      "|       105|              Israel|    587|          Persimmons|2014|hg/ha|    266317|\n",
      "|       191|Saint Vincent and...|    197|         Pigeon peas|2013|hg/ha|     91212|\n",
      "|       101|           Indonesia|    574|          Pineapples|2016|hg/ha|   1321449|\n",
      "|        52|          Azerbaijan|    223|          Pistachios|2002|hg/ha|     95238|\n",
      "|        23|              Belize|    489|Plantains and others|2009|hg/ha|    554855|\n",
      "|       198|            Slovenia|    536|     Plums and sloes|2013|hg/ha|   2598529|\n",
      "|       299|Occupied Palestin...|    296|          Poppy seed|2000|hg/ha|    323500|\n",
      "|       255|             Belgium|    116|            Potatoes|2014|hg/ha|    540003|\n",
      "|       121|             Lebanon|    211|         Pulses, nes|2001|hg/ha|    120000|\n",
      "|        13|             Bahrain|   1726|        Pulses,Total|2006|hg/ha|    916198|\n",
      "|       255|             Belgium|    394|Pumpkins, squash ...|2000|hg/ha|   1128955|\n",
      "|       114|               Kenya|    754|    Pyrethrum, dried|2000|hg/ha|      8889|\n",
      "|       114|               Kenya|    754|    Pyrethrum, dried|2003|hg/ha|      8889|\n",
      "|       114|               Kenya|    754|    Pyrethrum, dried|2002|hg/ha|      8889|\n",
      "|       114|               Kenya|    754|    Pyrethrum, dried|2001|hg/ha|      8889|\n",
      "|       114|               Kenya|    754|    Pyrethrum, dried|2004|hg/ha|      8889|\n",
      "|       114|               Kenya|    754|    Pyrethrum, dried|2005|hg/ha|      8889|\n",
      "|       114|               Kenya|    754|    Pyrethrum, dried|2006|hg/ha|      8889|\n",
      "|       211|         Switzerland|    523|             Quinces|2009|hg/ha|   1228000|\n",
      "|       211|         Switzerland|    523|             Quinces|2012|hg/ha|   1228000|\n",
      "|        58|             Ecuador|     92|              Quinoa|2015|hg/ha|     17777|\n",
      "|      5200|            Americas|    788|               Ramie|2012|hg/ha|     41325|\n",
      "|      5207|       South America|    788|               Ramie|2012|hg/ha|     41325|\n",
      "|        21|              Brazil|    788|               Ramie|2012|hg/ha|     41325|\n",
      "|       255|             Belgium|    270|            Rapeseed|2014|hg/ha|     47951|\n",
      "|       255|             Belgium|    547|         Raspberries|2008|hg/ha|    194444|\n",
      "|        10|           Australia|     27|         Rice, paddy|2014|hg/ha|    106827|\n",
      "|      5501|Australia & New Z...|     27|         Rice, paddy|2014|hg/ha|    106827|\n",
      "|       255|             Belgium|   1720|Roots and Tubers,...|2014|hg/ha|    540003|\n",
      "|      5402|     Northern Europe|    149|Roots and tubers,...|2004|hg/ha|    308249|\n",
      "|        63|             Estonia|    149|Roots and tubers,...|2004|hg/ha|    308249|\n",
      "|      5802|Land Locked Devel...|    836|     Rubber, natural|2007|hg/ha|    158211|\n",
      "|       235|          Uzbekistan|     71|                 Rye|2013|hg/ha|     99715|\n",
      "|       102|Iran (Islamic Rep...|    280|      Safflower seed|2000|hg/ha|     41759|\n",
      "|        10|           Australia|    328|         Seed cotton|2015|hg/ha|     64675|\n",
      "|      5500|             Oceania|    328|         Seed cotton|2015|hg/ha|     64675|\n",
      "|      5501|Australia & New Z...|    328|         Seed cotton|2015|hg/ha|     64675|\n",
      "|       121|             Lebanon|    289|         Sesame seed|2016|hg/ha|     36290|\n",
      "|        41|     China, mainland|    789|               Sisal|2004|hg/ha|     64286|\n",
      "|         4|             Algeria|     83|             Sorghum|2016|hg/ha|    255800|\n",
      "|       223|              Turkey|    236|            Soybeans|2015|hg/ha|     43999|\n",
      "|        91|              Guyana|    723|         Spices, nes|2013|hg/ha|    739375|\n",
      "|       112|              Jordan|    373|             Spinach|2015|hg/ha|    569048|\n",
      "|       143|             Morocco|    544|        Strawberries|2009|hg/ha|   1104605|\n",
      "|       143|             Morocco|    423|        String beans|2016|hg/ha|    306126|\n",
      "|        40|               Chile|    157|          Sugar beet|2013|hg/ha|   1045302|\n",
      "|       170|                Peru|    156|          Sugar cane|2008|hg/ha|   1359231|\n",
      "|      5303|       Southern Asia|    161|    Sugar crops, nes|2010|hg/ha|    262480|\n",
      "|        16|          Bangladesh|    161|    Sugar crops, nes|2010|hg/ha|    262480|\n",
      "|      5815|Low Income Food D...|    161|    Sugar crops, nes|2010|hg/ha|    262480|\n",
      "|       105|              Israel|    267|      Sunflower seed|2013|hg/ha|     85545|\n",
      "|       195|             Senegal|    122|      Sweet potatoes|2009|hg/ha|    400000|\n",
      "|      5000|               World|    305|     Tallowtree seed|2014|hg/ha|     24677|\n",
      "|        41|     China, mainland|    305|     Tallowtree seed|2014|hg/ha|     24677|\n",
      "|      5300|                Asia|    305|     Tallowtree seed|2014|hg/ha|     24677|\n",
      "|       351|               China|    305|     Tallowtree seed|2014|hg/ha|     24677|\n",
      "|      5302|        Eastern Asia|    305|     Tallowtree seed|2014|hg/ha|     24677|\n",
      "|        50|              Cyprus|    495|Tangerines, manda...|2011|hg/ha|    798382|\n",
      "|        91|              Guyana|    136|      Taro (cocoyam)|2016|hg/ha|    481387|\n",
      "|       216|            Thailand|    667|                 Tea|2013|hg/ha|     85648|\n",
      "|       225|United Arab Emirates|    826|Tobacco, unmanufa...|2016|hg/ha|    152773|\n",
      "|       255|             Belgium|    388|            Tomatoes|2009|hg/ha|   5239278|\n",
      "|       105|              Israel|   1729|      Treenuts,Total|2013|hg/ha|    379470|\n",
      "|       255|             Belgium|     97|           Triticale|2015|hg/ha|     94491|\n",
      "|        21|              Brazil|    275|           Tung nuts|2015|hg/ha|     76125|\n",
      "|        47|        Cook Islands|    692|             Vanilla|2016|hg/ha|     11102|\n",
      "|        99|             Iceland|   1735|  Vegetables Primary|2013|hg/ha|   1352698|\n",
      "|       225|United Arab Emirates|    463|Vegetables, fresh...|2000|hg/ha|   1032604|\n",
      "|        50|              Cyprus|    420|Vegetables, legum...|2010|hg/ha|    343925|\n",
      "|      5200|            Americas|    205|             Vetches|2009|hg/ha|    153757|\n",
      "|       138|              Mexico|    205|             Vetches|2009|hg/ha|    153757|\n",
      "|      5204|     Central America|    205|             Vetches|2009|hg/ha|    153757|\n",
      "|       198|            Slovenia|    222| Walnuts, with shell|2004|hg/ha|    600164|\n",
      "|       221|                Oman|    567|         Watermelons|2013|hg/ha|    734256|\n",
      "|       104|             Ireland|     15|               Wheat|2015|hg/ha|    106677|\n",
      "|        49|                Cuba|    137|                Yams|2000|hg/ha|    333333|\n",
      "|       138|              Mexico|    135|    Yautia (cocoyam)|2015|hg/ha|    678361|\n",
      "+----------+--------------------+-------+--------------------+----+-----+----------+\n",
      "\n"
     ]
    }
   ],
   "source": [
    "w2 = Window.partitionBy(df_crop_max.crop)\n",
    "df_crop_max = df_crop_max.withColumn('max_value', max(\"yield\").over(w2)).where(col(\"yield\") == col('max_value')).drop('max_value')\n",
    "#w2 = Window.partitionBy(df_crop_avg.crop)\n",
    "#df_crop_max = df_crop_avg.withColumn('max_value', max(\"yield\").over(w2)).where(col(\"yield\") == col('max_value')).drop('max_value')\n",
    "df_crop_max.orderBy('crop').show(500)"
   ]
  },
  {
   "cell_type": "code",
   "execution_count": 72,
   "metadata": {},
   "outputs": [
    {
     "data": {
      "text/plain": [
       "167"
      ]
     },
     "execution_count": 72,
     "metadata": {},
     "output_type": "execute_result"
    }
   ],
   "source": [
    "w7 = Window.partitionBy(df_crop_max.crop).orderBy(df_crop_max.crop)\n",
    "df_crop_max = df_crop_max.withColumn('rn', row_number().over(w7)).where(col('rn') == 1).drop('rn')\n",
    "df_crop_max.count()"
   ]
  },
  {
   "cell_type": "code",
   "execution_count": 73,
   "metadata": {},
   "outputs": [
    {
     "name": "stdout",
     "output_type": "stream",
     "text": [
      "+----------+--------------------+-------+--------------------+----+-----+-----+\n",
      "|country_id|             country|crop_id|                crop|year| unit|yield|\n",
      "+----------+--------------------+-------+--------------------+----+-----+-----+\n",
      "|       153|       New Caledonia|   1720|Roots and Tubers,...|2013|hg/ha|12705|\n",
      "|      5304|  South-Eastern Asia|    101|         Canary seed|2006|hg/ha| 3320|\n",
      "|       216|            Thailand|    101|         Canary seed|2006|hg/ha| 3320|\n",
      "|      5300|                Asia|    305|     Tallowtree seed|2001|hg/ha|23194|\n",
      "|      5302|        Eastern Asia|    305|     Tallowtree seed|2001|hg/ha|23194|\n",
      "|        41|     China, mainland|    305|     Tallowtree seed|2001|hg/ha|23194|\n",
      "|      5000|               World|    305|     Tallowtree seed|2001|hg/ha|23194|\n",
      "|       351|               China|    305|     Tallowtree seed|2001|hg/ha|23194|\n",
      "|       105|              Israel|    574|          Pineapples|2016|hg/ha|20000|\n",
      "|      5305|        Western Asia|    574|          Pineapples|2016|hg/ha|20000|\n",
      "|        37|Central African R...|    116|            Potatoes|2016|hg/ha| 8052|\n",
      "|       101|           Indonesia|    310|         Kapok fruit|2010|hg/ha| 9721|\n",
      "|       193|Sao Tome and Prin...|    656|       Coffee, green|2011|hg/ha|   56|\n",
      "|       101|           Indonesia|    161|    Sugar crops, nes|2012|hg/ha|26667|\n",
      "|        80|Bosnia and Herzeg...|   1804|  Citrus Fruit,Total|2001|hg/ha| 5000|\n",
      "|       211|         Switzerland|    568|Melons, other (in...|2005|hg/ha|12500|\n",
      "|       177|         Puerto Rico|    135|    Yautia (cocoyam)|2016|hg/ha|48353|\n",
      "|       119|              Latvia|    552|         Blueberries|2011|hg/ha|  889|\n",
      "|       129|          Madagascar|    692|             Vanilla|2003|hg/ha|  202|\n",
      "|       102|Iran (Islamic Rep...|     71|                 Rye|2008|hg/ha|  697|\n",
      "+----------+--------------------+-------+--------------------+----+-----+-----+\n",
      "only showing top 20 rows\n",
      "\n"
     ]
    }
   ],
   "source": [
    "w3 =  Window.partitionBy(df_crop.country, df_crop.crop).orderBy(df_crop.country)\n",
    "df_crop_min = df_crop.withColumn('min_value', min(\"yield\").over(w3)).where(col(\"yield\") == col('min_value')).drop('min_value')\n",
    "w4 = Window.partitionBy(df_crop_min.crop)\n",
    "df_crop_min = df_crop_min.withColumn('min_value', min(\"yield\").over(w4)).where(col(\"yield\") == col('min_value')).drop('min_value')\n",
    "#w4 = Window.partitionBy(df_crop_avg.crop)\n",
    "#df_crop_min = df_crop_avg.withColumn('min_value', min(\"yield\").over(w4)).where(col(\"yield\") == col('min_value')).drop('min_value')\n",
    "df_crop_min.show()"
   ]
  },
  {
   "cell_type": "code",
   "execution_count": 74,
   "metadata": {},
   "outputs": [
    {
     "data": {
      "text/plain": [
       "167"
      ]
     },
     "execution_count": 74,
     "metadata": {},
     "output_type": "execute_result"
    }
   ],
   "source": [
    "w8 = Window.partitionBy(df_crop_min.crop).orderBy(df_crop_min.crop)\n",
    "df_crop_min = df_crop_min.withColumn('rn', row_number().over(w8)).where(col('rn') == 1).drop('rn')\n",
    "df_crop_min.count()"
   ]
  },
  {
   "cell_type": "code",
   "execution_count": 75,
   "metadata": {
    "collapsed": true
   },
   "outputs": [],
   "source": [
    "#w5 =  Window.partitionBy(df_nutrient.n_country_id, df_nutrient.nutrient).orderBy(df_nutrient.n_country_id, df_nutrient.nutrient)\n",
    "#df_nutrient_max = df_nutrient.select(\"n_country_id\",\"nutrient_id\",\"nutrient\",\"n_unit\", avg(\"quantity\").over(w5).alias('quantity'))\n",
    "#df_nutrient_max = df_nutrient_max.select(\"n_country_id\",\"nutrient_id\",\"nutrient\",\"n_unit\", round(\"quantity\").alias('quantity')).distinct()\n",
    "#df_nutrient_max.show()"
   ]
  },
  {
   "cell_type": "code",
   "execution_count": 76,
   "metadata": {
    "collapsed": true
   },
   "outputs": [],
   "source": [
    "#df_land_nutrient = df_land.join(df_nutrient_max, df_land.country_id == df_nutrient_max.n_country_id).drop('n_country_id')\n",
    "#df_land_nutrient = df_land_nutrient.withColumn(\"tonnes/ha\", col('quantity') / col('yield'))\n",
    "#df_land_nutrient.show()"
   ]
  },
  {
   "cell_type": "code",
   "execution_count": 77,
   "metadata": {},
   "outputs": [
    {
     "name": "stdout",
     "output_type": "stream",
     "text": [
      "+----------+--------------------+-------+--------------------+----+-----+-------+--------+--------------------+-----------+\n",
      "|country_id|             country|crop_id|                crop|year| unit|  yield|nid_3102|              n_3102|   nitrogen|\n",
      "+----------+--------------------+-------+--------------------+----+-----+-------+--------+--------------------+-----------+\n",
      "|        58|             Ecuador|    800|    Agave fibres nes|2004|hg/ha|  18021|    3102|Nutrient nitrogen...|  27.010363|\n",
      "|       105|              Israel|    221| Almonds, with shell|2013|hg/ha| 402844|    3102|Nutrient nitrogen...|  75.282349|\n",
      "|       102|Iran (Islamic Rep...|    711|Anise, badian, fe...|2013|hg/ha| 117844|    3102|Nutrient nitrogen...|  38.261166|\n",
      "|       211|         Switzerland|    515|              Apples|2011|hg/ha| 782183|    3102|Nutrient nitrogen...|  74.206924|\n",
      "|       198|            Slovenia|    526|            Apricots|2004|hg/ha| 243548|    3102|Nutrient nitrogen...|  70.235046|\n",
      "|       131|            Malaysia|    226|          Areca nuts|2013|hg/ha|  86000|    3102|Nutrient nitrogen...|  29.863852|\n",
      "|      5101|      Eastern Africa|    366|          Artichokes|2002|hg/ha| 585157|    3102|Nutrient nitrogen...|   3.076379|\n",
      "|      5303|       Southern Asia|    367|           Asparagus|2013|hg/ha| 238605|    3102|Nutrient nitrogen...|  36.899091|\n",
      "|       233|        Burkina Faso|    203|       Bambara beans|2010|hg/ha|  12946|    3102|Nutrient nitrogen...|   1.950474|\n",
      "|       212|Syrian Arab Republic|    486|             Bananas|2015|hg/ha| 781507|    3102|Nutrient nitrogen...|    2.30812|\n",
      "|       255|             Belgium|     44|              Barley|2010|hg/ha|  91457|    3102|Nutrient nitrogen...| 125.985152|\n",
      "|       273|          Montenegro|    176|          Beans, dry|2014|hg/ha|  84359|    3102|Nutrient nitrogen...|  54.418413|\n",
      "|       256|          Luxembourg|    414|        Beans, green|2006|hg/ha| 550000|    3102|Nutrient nitrogen...| 124.225472|\n",
      "|       223|              Turkey|    558|         Berries nes|2013|hg/ha| 352886|    3102|Nutrient nitrogen...|    33.7744|\n",
      "|       174|            Portugal|    181|Broad beans, hors...|2011|hg/ha| 174266|    3102|Nutrient nitrogen...|  47.726027|\n",
      "|      5404|      Western Europe|     89|           Buckwheat|2015|hg/ha|  38164|    3102|Nutrient nitrogen...|    63.9008|\n",
      "|        56|  Dominican Republic|    358|Cabbages and othe...|2003|hg/ha|1184977|    3102|Nutrient nitrogen...|  30.224749|\n",
      "|         9|           Argentina|    101|         Canary seed|2014|hg/ha|  21857|    3102|Nutrient nitrogen...|  11.714653|\n",
      "|       121|             Lebanon|    461|              Carobs|2002|hg/ha|  98462|    3102|Nutrient nitrogen...|  42.501172|\n",
      "|        99|             Iceland|    426| Carrots and turnips|2012|hg/ha|1705000|    3102|Nutrient nitrogen...|8509.927798|\n",
      "+----------+--------------------+-------+--------------------+----+-----+-------+--------+--------------------+-----------+\n",
      "only showing top 20 rows\n",
      "\n"
     ]
    }
   ],
   "source": [
    "df_crop_nutrient_max = df_crop_max.join(df_land_nutrient_3102, [df_crop_max.country_id == df_land_nutrient_3102.cid_3102, df_crop_max.year == df_land_nutrient_3102.y_3102])\n",
    "df_crop_nutrient_max = df_crop_nutrient_max.drop('cid_3102','c_3102','y_3102')\n",
    "#df_crop_nutrient_max = df_crop_nutrient_max.drop('n_country_id','element','n_year')\n",
    "#df_crop_nutrient_max = df_crop_max.join(df_nutrient_max, df_crop_max.country_id == df_nutrient_max.n_country_id)\n",
    "#df_crop_nutrient_max = df_crop_nutrient_max.drop('n_country_id','element')\n",
    "df_crop_nutrient_max.orderBy(\"crop\", \"country\").show()"
   ]
  },
  {
   "cell_type": "code",
   "execution_count": 78,
   "metadata": {
    "collapsed": true
   },
   "outputs": [],
   "source": [
    "df_crop_nutrient_max = df_crop_nutrient_max.join(df_land_nutrient_3103, [df_crop_max.country_id == df_land_nutrient_3103.cid_3103, df_crop_max.year == df_land_nutrient_3103.y_3103])\n",
    "df_crop_nutrient_max = df_crop_nutrient_max.drop('cid_3103','c_3103','y_3103')"
   ]
  },
  {
   "cell_type": "code",
   "execution_count": 79,
   "metadata": {},
   "outputs": [
    {
     "name": "stdout",
     "output_type": "stream",
     "text": [
      "+--------------------+--------------------+----+-------+-----------+-----------+----------+\n",
      "|             country|                crop|year|  yield|   nitrogen|  phosphate|    potash|\n",
      "+--------------------+--------------------+----+-------+-----------+-----------+----------+\n",
      "|             Ecuador|    Agave fibres nes|2004|  18021|  27.010363|   8.637892| 19.671093|\n",
      "|              Israel| Almonds, with shell|2013| 402844|  75.282349|  12.359789| 48.155021|\n",
      "|Iran (Islamic Rep...|Anise, badian, fe...|2013| 117844|  38.261166|   9.802142|  6.526011|\n",
      "|         Switzerland|              Apples|2011| 782183|  74.206924|  26.069989| 34.268971|\n",
      "|            Slovenia|            Apricots|2004| 243548|  70.235046|     33.489| 44.204449|\n",
      "|            Malaysia|          Areca nuts|2013|  86000|  29.863852|  34.570525| 95.389157|\n",
      "|      Eastern Africa|          Artichokes|2002| 585157|   3.076379|   1.896029|  0.474415|\n",
      "|       Southern Asia|           Asparagus|2013| 238605|  36.899091|  12.037407|  4.454529|\n",
      "|        Burkina Faso|       Bambara beans|2010|  12946|   1.950474|   0.366455|  0.366313|\n",
      "|Syrian Arab Republic|             Bananas|2015| 781507|    2.30812|        0.0|  0.106093|\n",
      "|             Belgium|              Barley|2010|  91457| 125.985152|   14.47847| 14.268464|\n",
      "|          Montenegro|          Beans, dry|2014|  84359|  54.418413|  22.646938| 22.235923|\n",
      "|          Luxembourg|        Beans, green|2006| 550000| 124.225472|   15.11879| 16.605885|\n",
      "|              Turkey|         Berries nes|2013| 352886|    33.7744|  13.275371|  2.254048|\n",
      "|            Portugal|Broad beans, hors...|2011| 174266|  47.726027|  14.838092| 12.373191|\n",
      "|      Western Europe|           Buckwheat|2015|  38164|    63.9008|  11.419191| 14.071305|\n",
      "|  Dominican Republic|Cabbages and othe...|2003|1184977|  30.224749|        0.0|  1.593943|\n",
      "|           Argentina|         Canary seed|2014|  21857|  11.714653|   8.432712|  0.458653|\n",
      "|             Lebanon|              Carobs|2002|  98462|  42.501172|  40.518446| 17.498958|\n",
      "|             Iceland| Carrots and turnips|2012|1705000|8509.927798|6347.472924|4447.65343|\n",
      "+--------------------+--------------------+----+-------+-----------+-----------+----------+\n",
      "only showing top 20 rows\n",
      "\n"
     ]
    }
   ],
   "source": [
    "df_crop_nutrient_max = df_crop_nutrient_max.join(df_land_nutrient_3104, [df_crop_nutrient_max.country_id == df_land_nutrient_3104.cid_3104, df_crop_nutrient_max.year == df_land_nutrient_3104.y_3104])\n",
    "df_crop_nutrient_max = df_crop_nutrient_max.drop('cid_3104','c_3104','y_3104')\n",
    "df_crop_nutrient_max.drop('country_id','crop_id','unit','nid_3102','n_3102','nid_3103','n_3103','nid_3104','n_3104').orderBy(\"crop\", \"country\").show()"
   ]
  },
  {
   "cell_type": "code",
   "execution_count": 80,
   "metadata": {
    "collapsed": true
   },
   "outputs": [],
   "source": [
    "df_crop_nutrient_min = df_crop_min.join(df_land_nutrient_3102, [df_crop_min.country_id == df_land_nutrient_3102.cid_3102, df_crop_min.year == df_land_nutrient_3102.y_3102])\n",
    "df_crop_nutrient_min = df_crop_nutrient_min.drop('cid_3102','c_3102','y_3102')\n",
    "#df_crop_nutrient_min = df_crop_nutrient_min.drop('n_country_id','element','n_year')\n",
    "#df_crop_nutrient_min = df_crop_min.join(df_nutrient_max, df_crop_min.country_id == df_nutrient_max.n_country_id)\n",
    "#df_crop_nutrient_min = df_crop_nutrient_min.drop('n_country_id','element')\n",
    "#df_crop_nutrient_min.orderBy(\"crop\", \"country\").show()"
   ]
  },
  {
   "cell_type": "code",
   "execution_count": 81,
   "metadata": {
    "collapsed": true
   },
   "outputs": [],
   "source": [
    "df_crop_nutrient_min = df_crop_nutrient_min.join(df_land_nutrient_3103, [df_crop_nutrient_min.country_id == df_land_nutrient_3103.cid_3103, df_crop_nutrient_min.year == df_land_nutrient_3103.y_3103])\n",
    "df_crop_nutrient_min = df_crop_nutrient_min.drop('cid_3103','c_3103','y_3103')"
   ]
  },
  {
   "cell_type": "code",
   "execution_count": 82,
   "metadata": {},
   "outputs": [
    {
     "name": "stdout",
     "output_type": "stream",
     "text": [
      "+-------------------+--------------------+----+-----+----------+---------+---------+\n",
      "|            country|                crop|year|yield|  nitrogen|phosphate|   potash|\n",
      "+-------------------+--------------------+----+-----+----------+---------+---------+\n",
      "|               Cuba|    Agave fibres nes|2015| 3697| 33.699306|15.942967|19.866529|\n",
      "|          Lithuania|Anise, badian, fe...|2011|  859| 12.464466|16.667396|11.014592|\n",
      "|            Estonia|              Apples|2004| 2427| 22.980326| 6.866429|10.668875|\n",
      "|             Poland|            Apricots|2007| 6569| 32.934033|13.328726|15.493959|\n",
      "|          Indonesia|          Areca nuts|2016| 4134| 33.914374| 9.590186|18.707658|\n",
      "|        Switzerland|          Artichokes|2004| 3333| 66.310133|23.670624|37.223545|\n",
      "|            Finland|           Asparagus|2005| 1667| 40.722843|  6.30175| 16.48098|\n",
      "|         Costa Rica|            Avocados|2013| 5991|118.151222| 22.71053|38.829163|\n",
      "|              Niger|       Bambara beans|2003| 2574|  0.062192| 0.031504| 0.008172|\n",
      "|             Cyprus|              Barley|2008| 1140| 24.310689|10.928379|11.654905|\n",
      "|            Denmark|        Beans, green|2007| 3295| 35.440842| 7.469438|17.414299|\n",
      "|            Estonia|         Berries nes|2007|  983| 20.958001| 6.762567|10.425309|\n",
      "|             Latvia|         Blueberries|2011|  889| 31.467699| 8.593797| 8.955898|\n",
      "|               Peru|Brazil nuts, with...|2004| 4839| 34.029442|11.689624| 7.579079|\n",
      "|            Ecuador|Broad beans, hors...|2012| 1684| 34.743493| 6.873198|17.132066|\n",
      "|Republic of Moldova|           Buckwheat|2006| 1414|   3.14486|  0.45905|  0.17601|\n",
      "| South-Eastern Asia|         Canary seed|2006| 3320| 23.549514| 6.751266| 9.362038|\n",
      "|             Israel|              Carobs|2006| 1200| 76.794857|19.724153|52.867197|\n",
      "|            Georgia| Carrots and turnips|2006|15000| 20.916312| 0.410315| 0.125048|\n",
      "| Dominican Republic|Cashew nuts, with...|2012|  933| 23.406126|14.781067| 3.058964|\n",
      "+-------------------+--------------------+----+-----+----------+---------+---------+\n",
      "only showing top 20 rows\n",
      "\n"
     ]
    }
   ],
   "source": [
    "df_crop_nutrient_min = df_crop_nutrient_min.join(df_land_nutrient_3104, [df_crop_nutrient_min.country_id == df_land_nutrient_3104.cid_3104, df_crop_nutrient_min.year == df_land_nutrient_3104.y_3104])\n",
    "df_crop_nutrient_min = df_crop_nutrient_min.drop('cid_3104','c_3104','y_3104')\n",
    "df_crop_nutrient_min.drop('country_id','crop_id','unit','nid_3102','n_3102','nid_3103','n_3103','nid_3104','n_3104').orderBy(\"crop\", \"country\").show()"
   ]
  },
  {
   "cell_type": "code",
   "execution_count": 83,
   "metadata": {},
   "outputs": [
    {
     "name": "stdout",
     "output_type": "stream",
     "text": [
      "+----------+-----------+----+--------+\n",
      "|country_id|    country|year|   yield|\n",
      "+----------+-----------+----+--------+\n",
      "|         2|Afghanistan|2000| 7989102|\n",
      "|         2|Afghanistan|2001| 6997246|\n",
      "|         2|Afghanistan|2002| 7591284|\n",
      "|         2|Afghanistan|2003|10067943|\n",
      "|         2|Afghanistan|2004| 9081042|\n",
      "|         2|Afghanistan|2005|10233784|\n",
      "|         2|Afghanistan|2006| 9930715|\n",
      "|         2|Afghanistan|2007|10040900|\n",
      "|         2|Afghanistan|2008| 9127392|\n",
      "|         2|Afghanistan|2009|10619890|\n",
      "|         2|Afghanistan|2010| 9943679|\n",
      "|         2|Afghanistan|2011| 9447785|\n",
      "|         2|Afghanistan|2012|10486763|\n",
      "|         2|Afghanistan|2013|10583401|\n",
      "|         2|Afghanistan|2014|11210735|\n",
      "|         2|Afghanistan|2015| 9484706|\n",
      "|         2|Afghanistan|2016| 9813082|\n",
      "+----------+-----------+----+--------+\n",
      "\n"
     ]
    }
   ],
   "source": [
    "sqlCtx.registerDataFrameAsTable(df_land, \"final_df\")\n",
    "df_temp = sqlCtx.sql(\"SELECT * from final_df where country='Afghanistan' order by year\")\n",
    "df_temp.show()"
   ]
  },
  {
   "cell_type": "code",
   "execution_count": 84,
   "metadata": {
    "collapsed": true
   },
   "outputs": [],
   "source": [
    "crop_df = df_plot.select('_c2','_c3').distinct().collect()\n",
    "crop = []\n",
    "for i in crop_df:\n",
    "    crop.append(i[1])\n",
    "crop = sorted(crop)"
   ]
  },
  {
   "cell_type": "code",
   "execution_count": 85,
   "metadata": {
    "collapsed": true
   },
   "outputs": [],
   "source": [
    "country_df = df_plot.select('_c0', '_c1').distinct().collect()\n",
    "country = []\n",
    "for i in country_df:\n",
    "    country.append(i[1])\n",
    "country = sorted(country)"
   ]
  },
  {
   "cell_type": "code",
   "execution_count": 86,
   "metadata": {},
   "outputs": [
    {
     "data": {
      "text/html": [
       "<script>requirejs.config({paths: { 'plotly': ['https://cdn.plot.ly/plotly-latest.min']},});if(!window.Plotly) {{require(['plotly'],function(plotly) {window.Plotly=plotly;});}}</script>"
      ],
      "text/vnd.plotly.v1+html": [
       "<script>requirejs.config({paths: { 'plotly': ['https://cdn.plot.ly/plotly-latest.min']},});if(!window.Plotly) {{require(['plotly'],function(plotly) {window.Plotly=plotly;});}}</script>"
      ]
     },
     "metadata": {},
     "output_type": "display_data"
    }
   ],
   "source": [
    "py.offline.init_notebook_mode(connected=True)\n",
    "layout = go.Layout(title='Crop Production', yaxis = dict(title='Yield(hg/ha)'), xaxis = dict(title='Year'))"
   ]
  },
  {
   "cell_type": "code",
   "execution_count": 87,
   "metadata": {},
   "outputs": [
    {
     "data": {
      "application/vnd.jupyter.widget-view+json": {
       "model_id": "0fb5d23b8ff64eafbbdcdec0dadb5a11",
       "version_major": 2,
       "version_minor": 0
      },
      "text/plain": [
       "A Jupyter Widget"
      ]
     },
     "metadata": {},
     "output_type": "display_data"
    }
   ],
   "source": [
    "def update_plot(countries, crops):\n",
    "    data = []\n",
    "    for i in countries:\n",
    "        temp = df_plot.filter(df_plot._c1 == i)\n",
    "        temp = temp.filter(temp._c3 == crops)\n",
    "        x = temp.toPandas()['_c7']\n",
    "        y = temp.toPandas()['_c9']\n",
    "        trace = go.Scatter(x=x, y=y, mode='lines', name=i)\n",
    "        data.append(trace)\n",
    "    fig = go.Figure(data=data, layout=layout)\n",
    "    py.offline.iplot(fig)\n",
    "\n",
    "countries = widgets.SelectMultiple(options = country, value = (country[0], ), description = 'country')\n",
    "crops = widgets.Select(options = crop, value = crop[0], description = 'crop')\n",
    "widgets.interactive(update_plot, countries = countries, crops = crops)"
   ]
  },
  {
   "cell_type": "code",
   "execution_count": 88,
   "metadata": {
    "collapsed": true
   },
   "outputs": [],
   "source": [
    "spark.stop()"
   ]
  }
 ],
 "metadata": {
  "kernelspec": {
   "display_name": "Python 3",
   "language": "python",
   "name": "python3"
  },
  "language_info": {
   "codemirror_mode": {
    "name": "ipython",
    "version": 3
   },
   "file_extension": ".py",
   "mimetype": "text/x-python",
   "name": "python",
   "nbconvert_exporter": "python",
   "pygments_lexer": "ipython3",
   "version": "3.7.0"
  }
 },
 "nbformat": 4,
 "nbformat_minor": 2
}
