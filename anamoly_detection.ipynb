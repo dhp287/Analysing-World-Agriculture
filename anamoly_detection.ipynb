{
 "cells": [
  {
   "cell_type": "code",
   "execution_count": 310,
   "metadata": {},
   "outputs": [],
   "source": [
    "from pyspark.sql import SQLContext\n",
    "from pyspark import SparkContext\n",
    "from pyspark.sql import SparkSession\n",
    "from pyspark.sql.types import IntegerType, DoubleType, StructType, StructField\n",
    "from pyspark.sql.window import Window\n",
    "from pyspark.sql.functions import avg, max, min, col, round, sum, row_number, split, stddev"
   ]
  },
  {
   "cell_type": "code",
   "execution_count": 311,
   "metadata": {
    "collapsed": true
   },
   "outputs": [],
   "source": [
    "spark = SparkSession\\\n",
    "    .builder\\\n",
    "    .appName(\"Python Spark SQL basic example\")\\\n",
    "    .config(\"spark.some.config.option\", \"some-value\")\\\n",
    "    .getOrCreate()"
   ]
  },
  {
   "cell_type": "code",
   "execution_count": 312,
   "metadata": {},
   "outputs": [],
   "source": [
    "df = spark.read.text('sunspots.txt')\n",
    "df = df.select(col('value').alias('val'))"
   ]
  },
  {
   "cell_type": "code",
   "execution_count": 313,
   "metadata": {},
   "outputs": [
    {
     "name": "stdout",
     "output_type": "stream",
     "text": [
      "+-----+-----+\n",
      "|index|value|\n",
      "+-----+-----+\n",
      "|    0| 58.0|\n",
      "|    1| 62.6|\n",
      "|    2| 70.0|\n",
      "|    3| 55.7|\n",
      "|    4| 85.0|\n",
      "|    5| 83.5|\n",
      "|    6| 94.8|\n",
      "|    7| 66.3|\n",
      "|    8| 75.9|\n",
      "|    9| 75.5|\n",
      "|   10|158.6|\n",
      "|   11| 85.2|\n",
      "|   12| 73.3|\n",
      "|   13| 75.9|\n",
      "|   14| 89.2|\n",
      "|   15| 88.3|\n",
      "|   16| 90.0|\n",
      "|   17|100.0|\n",
      "|   18| 85.4|\n",
      "|   19|103.0|\n",
      "+-----+-----+\n",
      "only showing top 20 rows\n",
      "\n"
     ]
    }
   ],
   "source": [
    "df = df.withColumn('index', split(df.val, '\\t')[0])\n",
    "df = df.withColumn('value', split(df.val, '\\t')[1])\n",
    "df = df.withColumn('index', df['index'].cast(IntegerType()))\n",
    "df = df.withColumn('value', df['value'].cast(DoubleType()))\n",
    "df = df.select('index', 'value')\n",
    "df.show()"
   ]
  },
  {
   "cell_type": "code",
   "execution_count": 314,
   "metadata": {},
   "outputs": [
    {
     "name": "stdout",
     "output_type": "stream",
     "text": [
      "+-----+-----+-----------------+\n",
      "|index|value|              avg|\n",
      "+-----+-----+-----------------+\n",
      "|    0| 58.0|63.53333333333333|\n",
      "|    1| 62.6|           61.575|\n",
      "|    2| 70.0|            66.26|\n",
      "|    3| 55.7|            71.36|\n",
      "|    4| 85.0|             77.8|\n",
      "|    5| 83.5|            77.06|\n",
      "|    6| 94.8|             81.1|\n",
      "|    7| 66.3|             79.2|\n",
      "|    8| 75.9|            94.22|\n",
      "|    9| 75.5|92.29999999999998|\n",
      "|   10|158.6|             93.7|\n",
      "|   11| 85.2|             93.7|\n",
      "|   12| 73.3|            96.44|\n",
      "|   13| 75.9|82.38000000000001|\n",
      "|   14| 89.2|            83.34|\n",
      "|   15| 88.3|            88.68|\n",
      "|   16| 90.0|            90.58|\n",
      "|   17|100.0|            93.34|\n",
      "|   18| 85.4|93.91999999999999|\n",
      "|   19|103.0|89.05999999999999|\n",
      "+-----+-----+-----------------+\n",
      "only showing top 20 rows\n",
      "\n"
     ]
    }
   ],
   "source": [
    "w = Window.orderBy(df.index).rangeBetween(-2,2)\n",
    "avg = df.withColumn('avg', avg('value').over(w))\n",
    "avg.show()"
   ]
  },
  {
   "cell_type": "code",
   "execution_count": 315,
   "metadata": {},
   "outputs": [
    {
     "name": "stdout",
     "output_type": "stream",
     "text": [
      "+-----+-----+-----------------+--------+\n",
      "|index|value|              avg|residual|\n",
      "+-----+-----+-----------------+--------+\n",
      "|    0| 58.0|63.53333333333333|   -5.53|\n",
      "|    1| 62.6|           61.575|    1.02|\n",
      "|    2| 70.0|            66.26|    3.74|\n",
      "|    3| 55.7|            71.36|  -15.66|\n",
      "|    4| 85.0|             77.8|     7.2|\n",
      "|    5| 83.5|            77.06|    6.44|\n",
      "|    6| 94.8|             81.1|    13.7|\n",
      "|    7| 66.3|             79.2|   -12.9|\n",
      "|    8| 75.9|            94.22|  -18.32|\n",
      "|    9| 75.5|92.29999999999998|   -16.8|\n",
      "|   10|158.6|             93.7|    64.9|\n",
      "|   11| 85.2|             93.7|    -8.5|\n",
      "|   12| 73.3|            96.44|  -23.14|\n",
      "|   13| 75.9|82.38000000000001|   -6.48|\n",
      "|   14| 89.2|            83.34|    5.86|\n",
      "|   15| 88.3|            88.68|   -0.38|\n",
      "|   16| 90.0|            90.58|   -0.58|\n",
      "|   17|100.0|            93.34|    6.66|\n",
      "|   18| 85.4|93.91999999999999|   -8.52|\n",
      "|   19|103.0|89.05999999999999|   13.94|\n",
      "+-----+-----+-----------------+--------+\n",
      "only showing top 20 rows\n",
      "\n"
     ]
    }
   ],
   "source": [
    "residual = avg.select('index', 'value', 'avg', (col('value') - col('avg')).alias('residual'))\n",
    "residual = residual.select('index', 'value', 'avg', (round(col('residual'), 2)).alias('residual'))\n",
    "residual.show()"
   ]
  },
  {
   "cell_type": "code",
   "execution_count": 316,
   "metadata": {},
   "outputs": [
    {
     "name": "stdout",
     "output_type": "stream",
     "text": [
      "11.417362025292233\n"
     ]
    }
   ],
   "source": [
    "df_stats = residual.select(stddev(col('residual')).alias('std')).collect()\n",
    "std = df_stats[0]['std']\n",
    "print(std)"
   ]
  },
  {
   "cell_type": "code",
   "execution_count": 317,
   "metadata": {},
   "outputs": [
    {
     "data": {
      "text/plain": [
       "46"
      ]
     },
     "execution_count": 317,
     "metadata": {},
     "output_type": "execute_result"
    }
   ],
   "source": [
    "anamolies = residual.select('index', 'value').where((col('value') > (col('avg') + (std*3))) | (col('value') < (col('avg') - (std*3))))\n",
    "anamolies.count()"
   ]
  },
  {
   "cell_type": "code",
   "execution_count": 318,
   "metadata": {},
   "outputs": [
    {
     "name": "stdout",
     "output_type": "stream",
     "text": [
      "+-----+-----+\n",
      "|index|value|\n",
      "+-----+-----+\n",
      "|   10|158.6|\n",
      "|  253|142.5|\n",
      "|  255| 51.0|\n",
      "|  262|132.2|\n",
      "|  264| 36.0|\n",
      "|  268|152.7|\n",
      "|  278| 31.1|\n",
      "|  349|109.3|\n",
      "|  352|238.9|\n",
      "|  361|165.7|\n",
      "|  818| 96.2|\n",
      "|  986| 93.4|\n",
      "| 1055|206.3|\n",
      "| 1069| 84.8|\n",
      "| 1172|107.1|\n",
      "| 1182| 52.2|\n",
      "| 1185|180.4|\n",
      "| 1464| 88.3|\n",
      "| 1735|129.2|\n",
      "| 1882|107.2|\n",
      "| 1890|103.6|\n",
      "| 1897|108.2|\n",
      "| 2023|154.5|\n",
      "| 2025| 72.2|\n",
      "| 2027|129.3|\n",
      "| 2171|108.0|\n",
      "| 2274|165.3|\n",
      "| 2380|201.3|\n",
      "| 2390| 94.8|\n",
      "| 2391|189.7|\n",
      "| 2503|158.0|\n",
      "| 2518|152.3|\n",
      "| 2520|217.4|\n",
      "| 2521|143.1|\n",
      "| 2527|199.6|\n",
      "| 2755| 58.1|\n",
      "| 2756|138.2|\n",
      "| 2789| 90.9|\n",
      "| 2807|127.0|\n",
      "| 2885|196.2|\n",
      "| 2886|126.9|\n",
      "| 2897|105.4|\n",
      "| 2899|200.3|\n",
      "| 3005|137.7|\n",
      "| 3018|170.1|\n",
      "| 3032|150.7|\n",
      "+-----+-----+\n",
      "\n"
     ]
    }
   ],
   "source": [
    "anamolies.show(46)"
   ]
  }
 ],
 "metadata": {
  "kernelspec": {
   "display_name": "Python 3",
   "language": "python",
   "name": "python3"
  },
  "language_info": {
   "codemirror_mode": {
    "name": "ipython",
    "version": 3
   },
   "file_extension": ".py",
   "mimetype": "text/x-python",
   "name": "python",
   "nbconvert_exporter": "python",
   "pygments_lexer": "ipython3",
   "version": "3.6.3"
  }
 },
 "nbformat": 4,
 "nbformat_minor": 2
}
